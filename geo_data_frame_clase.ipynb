{
  "cells": [
    {
      "cell_type": "markdown",
      "metadata": {
        "id": "Rq_-jS9HtUU-"
      },
      "source": [
        "<img src=\"https://i.imgur.com/6U6q5jQ.png\"/>"
      ]
    },
    {
      "cell_type": "markdown",
      "metadata": {
        "id": "-cCaZ1r2tUVA"
      },
      "source": [
        "<a target=\"_blank\" href=\"https://colab.research.google.com/github/SocialAnalytics-StrategicIntelligence/GeoDFBasics_py/blob/main/index.ipynb\">\n",
        "  <img src=\"https://colab.research.google.com/assets/colab-badge.svg\" alt=\"Open In Colab\"/>\n",
        "</a>\n",
        "\n",
        "# The Geo Dataframe\n",
        "\n",
        "The geodataframe (GDF) is a dataframe (DF) where every row represents an spatial element (point, line, polygon).\n",
        "\n",
        "Historically, the most common file type that stores spatial elements is the shapefile. Let's take a look at some of them:\n",
        "\n",
        "1. In GitHub (cloud), create a repository named: introgeodf.\n",
        "2. Clone that repo to a local folder in your computer.\n",
        "3. In that local folder in your computer, create a folder named **maps**.\n",
        "4. Go to paidea and download three compressed files.\n",
        "5. Download those files into the folder **maps** in your computer: *countries*, *cities*, and *rivers*."
      ]
    },
    {
      "cell_type": "markdown",
      "metadata": {
        "id": "PhGJmen1tUVB"
      },
      "source": [
        "You may see something like this:\n",
        "\n",
        "<img src=\"https://github.com/CienciaDeDatosEspacial/code_and_data/blob/main/mapsFolderImage.png?raw=true\">"
      ]
    },
    {
      "cell_type": "markdown",
      "metadata": {
        "id": "HBs3ovRstUVB"
      },
      "source": [
        "You can decompress those files:\n",
        "\n",
        "<img title=\"a title\" alt=\"Alt text\" src=\"https://github.com/CienciaDeDatosEspacial/code_and_data/blob/main/folderRar_1.png?raw=true\">"
      ]
    },
    {
      "cell_type": "markdown",
      "metadata": {
        "id": "OzvFDa2JtUVB"
      },
      "source": [
        "Now, take a look a **World_Countries**:\n",
        "\n",
        "<img src=\"https://github.com/CienciaDeDatosEspacial/code_and_data/blob/main/imageCountries_shp.png?raw=true\">"
      ]
    },
    {
      "cell_type": "markdown",
      "metadata": {
        "id": "BUOIWMOTtUVB"
      },
      "source": [
        "There, you see that this **one map** requires **several files**. That is the nature of the shapefile.\n",
        "\n",
        "Let's read the file with the help of **geopandas**:"
      ]
    },
    {
      "cell_type": "code",
      "execution_count": null,
      "metadata": {
        "id": "KJV5G0POtUVB"
      },
      "outputs": [],
      "source": [
        "import os, geopandas as gpd\n",
        "\n",
        "countries=gpd.read_file(os.path.join(\"maps\",\"World_Countries\",\"World_Countries.shp\"))"
      ]
    },
    {
      "cell_type": "markdown",
      "metadata": {
        "id": "a5AOj3mktUVC"
      },
      "source": [
        "Let's use some familiar DF functions:"
      ]
    },
    {
      "cell_type": "code",
      "execution_count": null,
      "metadata": {
        "id": "BTVBGfNatUVC"
      },
      "outputs": [],
      "source": [
        "# what is it?\n",
        "type(countries)"
      ]
    },
    {
      "cell_type": "code",
      "execution_count": null,
      "metadata": {
        "id": "AkvWskZytUVC"
      },
      "outputs": [],
      "source": [
        "# dimensions\n",
        "countries.shape"
      ]
    },
    {
      "cell_type": "code",
      "execution_count": null,
      "metadata": {
        "id": "ETJdBBR1tUVD"
      },
      "outputs": [],
      "source": [
        "# names\n",
        "countries.columns"
      ]
    },
    {
      "cell_type": "code",
      "execution_count": null,
      "metadata": {
        "id": "QrbZt4g5tUVD"
      },
      "outputs": [],
      "source": [
        "# some content\n",
        "countries.head()"
      ]
    },
    {
      "cell_type": "code",
      "execution_count": null,
      "metadata": {
        "id": "vPHdGEtatUVD"
      },
      "outputs": [],
      "source": [
        "# any missing values?\n",
        "countries[countries.isna().any(axis=1)]"
      ]
    },
    {
      "cell_type": "code",
      "execution_count": null,
      "metadata": {
        "id": "TWXmBv-vtUVD",
        "scrolled": true
      },
      "outputs": [],
      "source": [
        "# types\n",
        "countries.info()"
      ]
    },
    {
      "cell_type": "markdown",
      "metadata": {
        "id": "QzT4ctrjtUVD"
      },
      "source": [
        "As you see, every pandas command is working, but now we have a new column type: **geometry**. Let's see this map of countries:"
      ]
    },
    {
      "cell_type": "code",
      "execution_count": null,
      "metadata": {
        "id": "DjMj9myHtUVD"
      },
      "outputs": [],
      "source": [
        "countries.plot(facecolor=\"azure\",#color of polygon fill\n",
        "               edgecolor='black', #color of lines\n",
        "               linewidth=0.1) #thickness of lines"
      ]
    },
    {
      "cell_type": "markdown",
      "metadata": {
        "id": "iCtifGnqtUVD"
      },
      "source": [
        "Let's open the other maps:"
      ]
    },
    {
      "cell_type": "code",
      "execution_count": null,
      "metadata": {
        "id": "lPbJ4wFHtUVD"
      },
      "outputs": [],
      "source": [
        "rivers=gpd.read_file(os.path.join(\"maps\",\"World_Hydrography\",\"World_Hydrography.shp\"))\n",
        "cities=gpd.read_file(os.path.join(\"maps\",\"World_Cities\",\"World_Cities.shp\"))"
      ]
    },
    {
      "cell_type": "markdown",
      "metadata": {
        "id": "M3ro4q0RTx7C"
      },
      "source": [
        "This is the rivers map:"
      ]
    },
    {
      "cell_type": "code",
      "execution_count": null,
      "metadata": {
        "id": "8Gap_au4tUVD"
      },
      "outputs": [],
      "source": [
        "rivers.plot(edgecolor='blue',\n",
        "            linewidth=1,\n",
        "            linestyle='dotted')"
      ]
    },
    {
      "cell_type": "markdown",
      "metadata": {
        "id": "FDl_EZPkTx7D"
      },
      "source": [
        "This is the cities map:"
      ]
    },
    {
      "cell_type": "code",
      "execution_count": null,
      "metadata": {
        "id": "8nAC2GkptUVD"
      },
      "outputs": [],
      "source": [
        "cities.plot(marker='.', # marker type\n",
        "            color='red',\n",
        "            markersize=1,\n",
        "            alpha=0.3) # transparency"
      ]
    },
    {
      "cell_type": "markdown",
      "metadata": {
        "id": "prkK6IA8tUVE"
      },
      "source": [
        "You can plot all the layers, as long as they share the same projection.\n",
        "Let's verify that all have the same projection (**CRS**):"
      ]
    },
    {
      "cell_type": "code",
      "execution_count": null,
      "metadata": {
        "id": "8G0MkpZ1tUVE"
      },
      "outputs": [],
      "source": [
        "countries.crs==cities.crs==cities.crs"
      ]
    },
    {
      "cell_type": "markdown",
      "metadata": {
        "id": "ZOiFM3uYtUVE"
      },
      "source": [
        "You can start by creating the layer on the back (the base), and add layers on top:"
      ]
    },
    {
      "cell_type": "code",
      "execution_count": null,
      "metadata": {
        "id": "rqkVAvHstUVE"
      },
      "outputs": [],
      "source": [
        "base = countries.plot(facecolor=\"white\",\n",
        "                      edgecolor='black',\n",
        "                      linewidth=0.1,\n",
        "                      figsize=(12,12))\n",
        "\n",
        "rivers.plot(edgecolor='blue', linewidth=0.4,\n",
        "            ax=base)# on top of...\n",
        "cities.plot(marker='.', color='red', markersize=1,alpha=0.7,\n",
        "            ax=base) # on top of...\n"
      ]
    },
    {
      "cell_type": "code",
      "execution_count": null,
      "metadata": {
        "id": "n5ShAYV4Tx7D"
      },
      "outputs": [],
      "source": [
        "countries.to_file(os.path.join(\"maps\",\"worldMap.gpkg\"),layer='countryBorders', driver=\"GPKG\")\n",
        "rivers.to_file(os.path.join(\"maps\",\"worldMap.gpkg\"),layer='riverLines', driver=\"GPKG\")\n",
        "cities.to_file(os.path.join(\"maps\",\"worldMap.gpkg\"),layer='cityPoints', driver=\"GPKG\")"
      ]
    },
    {
      "cell_type": "markdown",
      "metadata": {
        "id": "4WVBq3bUtUVE"
      },
      "source": [
        "## Subsetting\n",
        "\n",
        "You can subset your map by *filtering*:"
      ]
    },
    {
      "cell_type": "code",
      "execution_count": null,
      "metadata": {
        "id": "NsiI-8ZYtUVE"
      },
      "outputs": [],
      "source": [
        "brazil=countries[countries.COUNTRY=='Brazil']"
      ]
    },
    {
      "cell_type": "markdown",
      "metadata": {
        "id": "biux_VKutUVF"
      },
      "source": [
        "But you can also subset by *clipping*, as sometimes other data frames may not have the same fields for filtering:"
      ]
    },
    {
      "cell_type": "code",
      "execution_count": null,
      "metadata": {
        "id": "ltxxI2OotUVF"
      },
      "outputs": [],
      "source": [
        "citiesBrazil_clipped = gpd.clip(gdf=cities,\n",
        "                          mask=brazil)\n",
        "riversBrazil_clipped = gpd.clip(gdf=rivers,\n",
        "                               mask=brazil)"
      ]
    },
    {
      "cell_type": "markdown",
      "metadata": {
        "id": "2nXd5aiRtUVF"
      },
      "source": [
        "Then, you can plot the clipped version:"
      ]
    },
    {
      "cell_type": "code",
      "execution_count": null,
      "metadata": {
        "id": "dEfKc5nQtUVF"
      },
      "outputs": [],
      "source": [
        "base = brazil.plot(facecolor=\"greenyellow\", edgecolor='black', linewidth=0.4,figsize=(5,5))\n",
        "citiesBrazil_clipped.plot(marker='+', color='red', markersize=15,\n",
        "                    ax=base)\n",
        "riversBrazil_clipped.plot(edgecolor='blue', linewidth=0.5,\n",
        "                    ax=base)"
      ]
    },
    {
      "cell_type": "markdown",
      "metadata": {
        "id": "7lQ35e5JTx7F"
      },
      "source": [
        "You can also check what geometries you have in your GDF:"
      ]
    },
    {
      "cell_type": "code",
      "execution_count": null,
      "metadata": {
        "id": "lRG_oDNNTx7F"
      },
      "outputs": [],
      "source": [
        "brazil.geom_type"
      ]
    },
    {
      "cell_type": "code",
      "execution_count": null,
      "metadata": {
        "id": "WEVzxOG2Tx7F"
      },
      "outputs": [],
      "source": [
        "citiesBrazil_clipped.geom_type"
      ]
    },
    {
      "cell_type": "code",
      "execution_count": null,
      "metadata": {
        "scrolled": true,
        "id": "1GiWw6H2Tx7G"
      },
      "outputs": [],
      "source": [
        "riversBrazil_clipped.geom_type"
      ]
    },
    {
      "cell_type": "markdown",
      "metadata": {
        "id": "eMATV98RTx7G"
      },
      "source": [
        "Notice that the amount of elements (rows) is different, and that all those elements do not belong to the exact geometry type."
      ]
    },
    {
      "cell_type": "markdown",
      "metadata": {
        "id": "ySrx-KtTTx7G"
      },
      "source": [
        "<a class=\"anchor\" id=\"1\"></a>\n",
        "\n",
        "## Map Projection\n",
        "\n",
        "The CRS is a very important property of the maps. They affect three aspects:\n",
        "\n",
        "* shape\n",
        "* area\n",
        "* scale\n",
        "* direction\n",
        "\n",
        "Most maps come with a default CRS: 4326. Pay attention:"
      ]
    },
    {
      "cell_type": "code",
      "execution_count": null,
      "metadata": {
        "id": "wLhB0rGPTx7O"
      },
      "outputs": [],
      "source": [
        "# check units\n",
        "brazil.crs.axis_info"
      ]
    },
    {
      "cell_type": "markdown",
      "metadata": {
        "id": "Q5ZuzjNNTx7O"
      },
      "source": [
        "Polygons have a centroid. When we try getting a centroid from an **unprojected** polygon, you get:"
      ]
    },
    {
      "cell_type": "code",
      "execution_count": null,
      "metadata": {
        "id": "TjDKFo5NTx7O"
      },
      "outputs": [],
      "source": [
        "# centroid\n",
        "brazil.centroid"
      ]
    },
    {
      "cell_type": "markdown",
      "metadata": {
        "id": "Icv1UeXOTx7O"
      },
      "source": [
        "### Reprojecting"
      ]
    },
    {
      "cell_type": "markdown",
      "metadata": {
        "id": "c_C1n8WjTx7P"
      },
      "source": [
        "A projected CRS will have units in meters or feet (or similar). You can request a crs per country [here](https://epsg.io/?q=brazil+kind%3APROJCRS):"
      ]
    },
    {
      "cell_type": "code",
      "execution_count": null,
      "metadata": {
        "id": "1Xliq5gqTx7P"
      },
      "outputs": [],
      "source": [
        "# recommended for Brazil (meters)\n",
        "brazil.to_crs(5641).crs.axis_info"
      ]
    },
    {
      "cell_type": "code",
      "execution_count": null,
      "metadata": {
        "id": "19xvDN5OTx7P"
      },
      "outputs": [],
      "source": [
        "# now this works\n",
        "brazil.to_crs(5641).centroid"
      ]
    },
    {
      "cell_type": "code",
      "execution_count": null,
      "metadata": {
        "id": "eZ-zKP5PTx7P"
      },
      "outputs": [],
      "source": [
        "# replotting:\n",
        "\n",
        "base5641=brazil.to_crs(5641).plot()\n",
        "brazil.to_crs(5641).centroid.plot(color='red',ax=base5641)"
      ]
    },
    {
      "cell_type": "markdown",
      "metadata": {
        "id": "TzqokRLYTx7P"
      },
      "source": [
        "Let's keep the projected version for all our maps:"
      ]
    },
    {
      "cell_type": "code",
      "execution_count": null,
      "metadata": {
        "id": "ZfefYQewTx7P"
      },
      "outputs": [],
      "source": [
        "brazil_5641=brazil.to_crs(5641)\n",
        "\n",
        "cities_brazil_5641=citiesBrazil_clipped.to_crs(brazil_5641.crs)\n",
        "\n",
        "rivers_brazil_5641=riversBrazil_clipped.to_crs(brazil_5641.crs)\n",
        "\n"
      ]
    },
    {
      "cell_type": "code",
      "execution_count": null,
      "metadata": {
        "id": "AqpNMgJ9Tx7P"
      },
      "outputs": [],
      "source": [
        "# saving\n",
        "import os\n",
        "\n",
        "brazil_5641.to_file(os.path.join(\"maps\",\"brazilMaps_5641.gpkg\"), layer='country', driver=\"GPKG\")\n",
        "cities_brazil_5641.to_file(os.path.join(\"maps\",\"brazilMaps_5641.gpkg\"), layer='cities', driver=\"GPKG\")\n",
        "rivers_brazil_5641.to_file(os.path.join(\"maps\",\"brazilMaps_5641.gpkg\"), layer='rivers', driver=\"GPKG\")"
      ]
    },
    {
      "cell_type": "code",
      "execution_count": null,
      "metadata": {
        "id": "aZKiUpBbTx7P"
      },
      "outputs": [],
      "source": [
        "brazil_5641.centroid"
      ]
    },
    {
      "cell_type": "code",
      "execution_count": null,
      "metadata": {
        "id": "2nIS9UXHTx7P"
      },
      "outputs": [],
      "source": [
        "brazil_5641.centroid.to_file(os.path.join(\"maps\",\"brazilMaps_5641.gpkg\"), layer='centroid', driver=\"GPKG\")"
      ]
    },
    {
      "cell_type": "markdown",
      "metadata": {
        "id": "GYWtTmeBTx7Q"
      },
      "source": [
        "<a class=\"anchor\" id=\"3\"></a>\n",
        "\n",
        "## Creating Spatial data\n",
        "\n",
        "You will get Lines and Polygons as maps for sure, but that may not be the case with points. Let me download a **CSV** file with information on the airports in Brazil from this [website](https://data.humdata.org/dataset/ourairports-bra), I will save it in my **data** folder:"
      ]
    },
    {
      "cell_type": "code",
      "execution_count": null,
      "metadata": {
        "id": "KG3SSXPTTx7Q"
      },
      "outputs": [],
      "source": [
        "import pandas as pd\n",
        "infoairports=pd.read_csv(os.path.join(\"data\",\"br-airports.csv\"))\n",
        "\n",
        "# some rows\n",
        "\n",
        "infoairports.iloc[[0,1,2,3,-4,-3,-2,-1],:] #head and tail"
      ]
    },
    {
      "cell_type": "markdown",
      "metadata": {
        "id": "Cfv_e5wUTx7Q"
      },
      "source": [
        "This needs some cleaning:"
      ]
    },
    {
      "cell_type": "code",
      "execution_count": null,
      "metadata": {
        "id": "VDnfQ7ZdTx7Q"
      },
      "outputs": [],
      "source": [
        "# bye first row\n",
        "infoairports.drop(index=0,inplace=True)\n",
        "infoairports.reset_index(drop=True, inplace=True)\n",
        "infoairports.head()"
      ]
    },
    {
      "cell_type": "code",
      "execution_count": null,
      "metadata": {
        "id": "SGNcbqL-Tx7Q"
      },
      "outputs": [],
      "source": [
        "# keep the  columns needed\n",
        "\n",
        "infoairports.columns"
      ]
    },
    {
      "cell_type": "code",
      "execution_count": null,
      "metadata": {
        "id": "RifNiRrfTx7Q"
      },
      "outputs": [],
      "source": [
        "keep=['name','type','latitude_deg', 'longitude_deg','elevation_ft','region_name','municipality']\n",
        "infoairports=infoairports.loc[:,keep]"
      ]
    },
    {
      "cell_type": "code",
      "execution_count": null,
      "metadata": {
        "id": "ZRAYk7dwTx7Q"
      },
      "outputs": [],
      "source": [
        "infoairports.info()"
      ]
    },
    {
      "cell_type": "markdown",
      "metadata": {
        "id": "VGKSAagSTx7R"
      },
      "source": [
        "Some formatting:"
      ]
    },
    {
      "cell_type": "code",
      "execution_count": null,
      "metadata": {
        "id": "hE5A7oUDTx7R"
      },
      "outputs": [],
      "source": [
        "numericCols=['latitude_deg', 'longitude_deg','elevation_ft']\n",
        "infoairports[numericCols]=infoairports.loc[:,numericCols].apply(lambda x:pd.to_numeric(x))\n",
        "\n",
        "# now\n",
        "infoairports.info()"
      ]
    },
    {
      "cell_type": "code",
      "execution_count": null,
      "metadata": {
        "id": "zPHY88ztTx7R"
      },
      "outputs": [],
      "source": [
        "# let's plot\n",
        "\n",
        "base = brazil_5641.plot(color='white', edgecolor='black') #unprojected\n",
        "\n",
        "infoairports.plot.scatter(x = 'longitude_deg', y = 'latitude_deg',ax=base)"
      ]
    },
    {
      "cell_type": "markdown",
      "metadata": {
        "id": "s7lLQNCvTx7R"
      },
      "source": [
        "Why is it wrong?"
      ]
    },
    {
      "cell_type": "code",
      "execution_count": null,
      "metadata": {
        "id": "ExzUSRM_Tx7R"
      },
      "outputs": [],
      "source": [
        "airports=gpd.GeoDataFrame(data=infoairports.copy(),\n",
        "                 geometry=gpd.points_from_xy(infoairports.longitude_deg,\n",
        "                                             infoairports.latitude_deg),\n",
        "                 crs=brazil.crs.to_epsg())# the coordinates were in degrees - unprojected"
      ]
    },
    {
      "cell_type": "code",
      "execution_count": null,
      "metadata": {
        "id": "zsXrDyMnTx7R"
      },
      "outputs": [],
      "source": [
        "# does it look better?\n",
        "\n",
        "# let's plot\n",
        "\n",
        "base = brazil_5641.plot(color='white', edgecolor='black')\n",
        "airports.plot(ax=base)"
      ]
    },
    {
      "cell_type": "code",
      "execution_count": null,
      "metadata": {
        "id": "SzcB6QkCTx7S"
      },
      "outputs": [],
      "source": [
        "#remember:\n",
        "type(airports), type(infoairports)"
      ]
    },
    {
      "cell_type": "markdown",
      "metadata": {
        "id": "fxH1U2AlTx7S"
      },
      "source": [
        "Let's keep the projected version:"
      ]
    },
    {
      "cell_type": "code",
      "execution_count": null,
      "metadata": {
        "id": "1mAhPjyQTx7S"
      },
      "outputs": [],
      "source": [
        "airports_5641=airports.to_crs(5641)\n",
        "\n",
        "## then\n",
        "\n",
        "base = brazil_5641.plot(color='white', edgecolor='black')\n",
        "airports_5641.plot(ax=base)"
      ]
    },
    {
      "cell_type": "markdown",
      "metadata": {
        "id": "ybXaas4TTx7S"
      },
      "source": [
        "Remember you have type of airports:"
      ]
    },
    {
      "cell_type": "code",
      "execution_count": null,
      "metadata": {
        "id": "tAXi7JD-Tx7S"
      },
      "outputs": [],
      "source": [
        "airports_5641['type'].value_counts() # this will not work: airports.type.value_counts()"
      ]
    },
    {
      "cell_type": "markdown",
      "metadata": {
        "id": "tOqFZmV0Tx7S"
      },
      "source": [
        "We may use that in the future. For now, just rename the **type** column to a different one."
      ]
    },
    {
      "cell_type": "code",
      "execution_count": null,
      "metadata": {
        "id": "qiy6cix0Tx7S"
      },
      "outputs": [],
      "source": [
        "airports_5641.rename(columns={'type':'kind'},inplace=True)"
      ]
    },
    {
      "cell_type": "code",
      "execution_count": null,
      "metadata": {
        "id": "_ajzqweZTx7S"
      },
      "outputs": [],
      "source": [
        "# adding the airports\n",
        "airports_5641.to_file(os.path.join(\"maps\",\"brazilMaps_5641.gpkg\"), layer='airports', driver=\"GPKG\")"
      ]
    },
    {
      "cell_type": "markdown",
      "metadata": {
        "id": "VU5Qr0GxTx7T"
      },
      "source": [
        "## Geo Merging\n",
        "\n",
        "Remember we have these data:"
      ]
    },
    {
      "cell_type": "code",
      "execution_count": null,
      "metadata": {
        "id": "9Ja-VXhlTx7T"
      },
      "outputs": [],
      "source": [
        "countries"
      ]
    },
    {
      "cell_type": "markdown",
      "metadata": {
        "id": "l9q_sRVJTx7T"
      },
      "source": [
        "This map has no interesting information beyond the geometry. Let me bring this info:"
      ]
    },
    {
      "cell_type": "code",
      "execution_count": null,
      "metadata": {
        "id": "z5DkUJKhTx7T"
      },
      "outputs": [],
      "source": [
        "fragilityLink=\"https://github.com/SocialAnalytics-StrategicIntelligence/TableOperations/raw/main/dataFiles/fragility/fragilityCoded_2012_2023.pkl\"\n",
        "\n",
        "fragility=pd.read_pickle(fragilityLink)\n",
        "\n",
        "fragility.head()"
      ]
    },
    {
      "cell_type": "markdown",
      "metadata": {
        "id": "1pdWFVuxTx7T"
      },
      "source": [
        "We want to add the fragility data into the map. That is the merging process.\n",
        "For that, we need a common column. The country names is the option."
      ]
    },
    {
      "cell_type": "code",
      "execution_count": null,
      "metadata": {
        "id": "1lyHeIITTx7T"
      },
      "outputs": [],
      "source": [
        "# to upper case.\n",
        "countries['COUNTRY']=countries.COUNTRY.str.upper()"
      ]
    },
    {
      "cell_type": "markdown",
      "metadata": {
        "id": "FNKlonX4Tx7T"
      },
      "source": [
        "It is very unlikely the names are written the same. Verify:"
      ]
    },
    {
      "cell_type": "code",
      "execution_count": null,
      "metadata": {
        "id": "aBPVNgJcTx7T"
      },
      "outputs": [],
      "source": [
        "onlyFragil=set(fragility.Country)- set(countries.COUNTRY)\n",
        "onlyMap=set(countries.COUNTRY)- set(fragility.Country)"
      ]
    },
    {
      "cell_type": "markdown",
      "metadata": {
        "id": "miUrF9bYTx7T"
      },
      "source": [
        "Check here:"
      ]
    },
    {
      "cell_type": "code",
      "execution_count": null,
      "metadata": {
        "id": "LgEjxfgLTx7T"
      },
      "outputs": [],
      "source": [
        "onlyFragil"
      ]
    },
    {
      "cell_type": "code",
      "execution_count": null,
      "metadata": {
        "id": "hNNX1YXaTx7U"
      },
      "outputs": [],
      "source": [
        "# and here\n",
        "onlyMap"
      ]
    },
    {
      "cell_type": "markdown",
      "metadata": {
        "id": "AUJhMSHFTx7U"
      },
      "source": [
        "## Fuzzy merging"
      ]
    },
    {
      "cell_type": "markdown",
      "metadata": {
        "id": "lPyTcTO1Tx7U"
      },
      "source": [
        "Let's find similar names:"
      ]
    },
    {
      "cell_type": "code",
      "execution_count": null,
      "metadata": {
        "id": "qSLAJZPNTx7U"
      },
      "outputs": [],
      "source": [
        "from thefuzz import process\n",
        "\n",
        "[(country, process.extractOne(country,onlyMap)) for country in sorted(onlyFragil)]"
      ]
    },
    {
      "cell_type": "code",
      "execution_count": null,
      "metadata": {
        "id": "_xBCsCQbTx7U"
      },
      "outputs": [],
      "source": [
        "# subsetting\n",
        "[(country, process.extractOne(country,onlyMap)) for country in sorted(onlyFragil)\n",
        " if process.extractOne(country,onlyMap)[1]>=90]"
      ]
    },
    {
      "cell_type": "markdown",
      "metadata": {
        "id": "byRo8rFFTx7V"
      },
      "source": [
        "Preparing a _dict_ of changes:"
      ]
    },
    {
      "cell_type": "code",
      "execution_count": null,
      "metadata": {
        "id": "ofQqaTXETx7V"
      },
      "outputs": [],
      "source": [
        "# then:\n",
        "try1={country: process.extractOne(country,onlyMap)[0] for country in sorted(onlyFragil)\n",
        " if process.extractOne(country,onlyMap)[1]>=90}\n",
        "try1"
      ]
    },
    {
      "cell_type": "markdown",
      "metadata": {
        "id": "RZZZ61cFTx7V"
      },
      "source": [
        "Making changes and updating:"
      ]
    },
    {
      "cell_type": "code",
      "execution_count": null,
      "metadata": {
        "id": "9YmOREx9Tx7V"
      },
      "outputs": [],
      "source": [
        "fragility.Country.replace(try1,inplace=True)\n",
        "\n",
        "# updating\n",
        "onlyFragil=set(fragility.Country)- set(countries.COUNTRY)\n",
        "onlyMap=set(countries.COUNTRY)- set(fragility.Country)\n",
        "\n",
        "# new matches\n",
        "[(country, process.extractOne(country,onlyMap)) for country in sorted(onlyFragil)]"
      ]
    },
    {
      "cell_type": "code",
      "execution_count": null,
      "metadata": {
        "id": "VSxZ_nMATx7V"
      },
      "outputs": [],
      "source": [
        "# then:\n",
        "try2={country: process.extractOne(country,onlyMap)[0] for country in sorted(onlyFragil)\n",
        " if process.extractOne(country,onlyMap)[1]!=60}\n",
        "try2"
      ]
    },
    {
      "cell_type": "code",
      "execution_count": null,
      "metadata": {
        "id": "wvVbXGgHTx7V"
      },
      "outputs": [],
      "source": [
        "# changing\n",
        "fragility.Country.replace(try2,inplace=True)\n",
        "\n",
        "# new update\n",
        "onlyFragil=set(fragility.Country)- set(countries.COUNTRY)\n",
        "onlyMap=set(countries.COUNTRY)- set(fragility.Country)\n",
        "\n",
        "# new matches\n",
        "[(country, process.extractOne(country,onlyMap)) for country in sorted(onlyFragil)]"
      ]
    },
    {
      "cell_type": "markdown",
      "metadata": {
        "id": "Zd1ybDj0Tx7V"
      },
      "source": [
        "At this stage, we go manual:"
      ]
    },
    {
      "cell_type": "code",
      "execution_count": null,
      "metadata": {
        "id": "vSQjQXleTx7V"
      },
      "outputs": [],
      "source": [
        "fragility.Country.replace({'ESWATINI': 'SWAZILAND'},inplace=True)\n",
        "\n",
        "#\n",
        "onlyFragil=set(fragility.Country)- set(countries.COUNTRY)\n",
        "onlyMap=set(countries.COUNTRY)- set(fragility.Country)\n",
        "\n",
        "#\n",
        "[(country, process.extractOne(country,onlyMap)) for country in sorted(onlyFragil)]\n"
      ]
    },
    {
      "cell_type": "markdown",
      "metadata": {
        "id": "-z2Loc0ETx7V"
      },
      "source": [
        "We can not improve the situation.\n",
        "\n",
        "Now, when you merge a GDF with a DF, **the GDF has to be on the left**:"
      ]
    },
    {
      "cell_type": "code",
      "execution_count": null,
      "metadata": {
        "id": "RogDcxQNTx7W"
      },
      "outputs": [],
      "source": [
        "theMapAndData=countries.merge(fragility,left_on='COUNTRY', right_on='Country')\n",
        "# here it is (new map):\n",
        "theMapAndData.info()"
      ]
    },
    {
      "cell_type": "markdown",
      "metadata": {
        "id": "Ng9Vhc3STx7W"
      },
      "source": [
        "# Choropleths\n",
        "\n",
        "We should plan how to color the polygons based on some variable:"
      ]
    },
    {
      "cell_type": "code",
      "execution_count": null,
      "metadata": {
        "id": "ThRNaChVTx7W"
      },
      "outputs": [],
      "source": [
        "theMapAndData['Total_mnmx'].describe()"
      ]
    },
    {
      "cell_type": "code",
      "execution_count": null,
      "metadata": {
        "id": "DsnUc71ATx7W"
      },
      "outputs": [],
      "source": [
        "theMapAndData.boxplot(column=['Total_mnmx'])"
      ]
    },
    {
      "cell_type": "code",
      "execution_count": null,
      "metadata": {
        "id": "9cGa1ZIpTx7W"
      },
      "outputs": [],
      "source": [
        "theMapAndData['Total_mnmx'].hist()"
      ]
    },
    {
      "cell_type": "markdown",
      "metadata": {
        "id": "orsEYKRsTx7W"
      },
      "source": [
        "Let's see other possibilities to cut the data (instead of the amount of intervals presented in the histogram), but please install [**numba**](https://numba.readthedocs.io/en/stable/user/installing.html) before runing the next code; also make sure you have **pysal**, **mapclassify** and **numpy** installed:"
      ]
    },
    {
      "cell_type": "code",
      "execution_count": null,
      "metadata": {
        "id": "GUTZXKGcTx7W"
      },
      "outputs": [],
      "source": [
        "pip show numba pysal mapclassify numpy"
      ]
    },
    {
      "cell_type": "code",
      "execution_count": null,
      "metadata": {
        "id": "Iu32mkzITx7X"
      },
      "outputs": [],
      "source": [
        "import mapclassify\n",
        "import numpy as np\n",
        "\n",
        "np.random.seed(12345) # so we all get the same results!\n",
        "\n",
        "# let's try 5 intervals\n",
        "K=5\n",
        "theVar=theMapAndData.Total_mnmx\n",
        "# same interval width, easy interpretation\n",
        "ei5 = mapclassify.EqualInterval(theVar, k=K)\n",
        "# same interval width based on standard deviation, easy - but not as the previous one, poor when high skewness\n",
        "msd = mapclassify.StdMean(theVar)\n",
        "# interval width varies, counts per interval are close, not easy to grasp, repeated values complicate cuts\n",
        "q5=mapclassify.Quantiles(theVar,k=K)\n",
        "\n",
        "# based on similarity, good for multimodal data\n",
        "mb5 = mapclassify.MaximumBreaks(theVar, k=K)\n",
        "# based on similarity, good for skewed data\n",
        "ht = mapclassify.HeadTailBreaks(theVar) # no K needed\n",
        "# based on similarity, optimizer\n",
        "fj5 = mapclassify.FisherJenks(theVar, k=K)\n",
        "# based on similarity, optimizer\n",
        "jc5 = mapclassify.JenksCaspall(theVar, k=K)\n",
        "# based on similarity, optimizer\n",
        "mp5 = mapclassify.MaxP(theVar, k=K)"
      ]
    },
    {
      "cell_type": "markdown",
      "metadata": {
        "id": "GzGB0RucTx7X"
      },
      "source": [
        "How can we select the right classification?\n",
        "Let me use the the Absolute deviation around class median (ADCM) to make the comparisson:"
      ]
    },
    {
      "cell_type": "code",
      "execution_count": null,
      "metadata": {
        "id": "XQmeOjE-Tx7X"
      },
      "outputs": [],
      "source": [
        "class5 = ei5,msd, q5,mb5,  ht, fj5, jc5, mp5\n",
        "# Collect ADCM for each classifier\n",
        "fits = np.array([ c.adcm for c in class5])\n",
        "# Convert ADCM scores to a DataFrame\n",
        "adcms = pd.DataFrame(fits)\n",
        "# Add classifier names\n",
        "adcms['classifier'] = [c.name for c in class5]\n",
        "# Add column names to the ADCM\n",
        "adcms.columns = ['ADCM', 'Classifier']"
      ]
    },
    {
      "cell_type": "markdown",
      "metadata": {
        "id": "d_pM64KWTx7X"
      },
      "source": [
        "Now, plot the **adcms**:"
      ]
    },
    {
      "cell_type": "code",
      "execution_count": null,
      "metadata": {
        "id": "Wk2L63bGTx7X"
      },
      "outputs": [],
      "source": [
        "adcms.sort_values('ADCM').plot.barh(x='Classifier')"
      ]
    },
    {
      "cell_type": "markdown",
      "metadata": {
        "id": "zeqqYNGMTx7X"
      },
      "source": [
        "Let's save the best three strategies:"
      ]
    },
    {
      "cell_type": "code",
      "execution_count": null,
      "metadata": {
        "id": "cpS7Uz_yTx7Y"
      },
      "outputs": [],
      "source": [
        "theMapAndData.loc[:,'Total_ei5'] = ei5.yb\n",
        "theMapAndData.loc[:,'Total_fj5'] = fj5.yb\n",
        "theMapAndData.loc[:,'Total_jc5'] = jc5.yb"
      ]
    },
    {
      "cell_type": "code",
      "execution_count": null,
      "metadata": {
        "id": "jYRsFfVQTx7Y"
      },
      "outputs": [],
      "source": [
        "# there you are\n",
        "theMapAndData.head()"
      ]
    },
    {
      "cell_type": "markdown",
      "metadata": {
        "id": "dDixtxIBTx7Y"
      },
      "source": [
        "Let's check the mean of 'Total_mnmx' by the labels of the columns created (from '0' to '4')"
      ]
    },
    {
      "cell_type": "code",
      "execution_count": null,
      "metadata": {
        "id": "oBFA2WEfTx7Y"
      },
      "outputs": [],
      "source": [
        "indexList=['Total_ei5','Total_fj5','Total_jc5']\n",
        "aggregator={'Total_mnmx': ['mean']}\n",
        "\n",
        "pd.concat([theMapAndData[['Total_mnmx',col]].groupby(col,as_index=False).agg(aggregator) for col in indexList],axis=1)"
      ]
    },
    {
      "cell_type": "markdown",
      "metadata": {
        "id": "IwwXdQMmTx7Y"
      },
      "source": [
        "Verify data types:"
      ]
    },
    {
      "cell_type": "code",
      "execution_count": null,
      "metadata": {
        "id": "AGwghI0ETx7Y"
      },
      "outputs": [],
      "source": [
        "theMapAndData.info()"
      ]
    },
    {
      "cell_type": "markdown",
      "metadata": {
        "id": "qO5dFIHvTx7Y"
      },
      "source": [
        "Let me create a copy of those columns with new names:"
      ]
    },
    {
      "cell_type": "code",
      "execution_count": null,
      "metadata": {
        "id": "H2oymKxETx7Y"
      },
      "outputs": [],
      "source": [
        "newColNames=[ name+\"_cat\" for name in indexList]\n",
        "\n",
        "theMapAndData[newColNames]=theMapAndData.loc[:,indexList]\n",
        "theMapAndData.head()"
      ]
    },
    {
      "cell_type": "code",
      "execution_count": null,
      "metadata": {
        "id": "FLwOpyRATx7Y"
      },
      "outputs": [],
      "source": [
        "# renaming\n",
        "newLabelsForLevels={0:\"0_Great\", 1:\"1_Good\", 2:\"2_Middle\", 3:\"3_Bad\", 4:\"4_Poor\"}\n",
        "\n",
        "theMapAndData[newColNames]=theMapAndData.loc[:,newColNames].replace(newLabelsForLevels)\n",
        "theMapAndData.drop(columns=['Country'],inplace=True)\n",
        "theMapAndData"
      ]
    },
    {
      "cell_type": "markdown",
      "metadata": {
        "id": "R6CvA8hnTx7Z"
      },
      "source": [
        "We are ready for a choropleth:"
      ]
    },
    {
      "cell_type": "code",
      "execution_count": null,
      "metadata": {
        "id": "mCzzaNiiTx7Z"
      },
      "outputs": [],
      "source": [
        "import matplotlib.pyplot as plt\n",
        "\n",
        "f, ax = plt.subplots(1, figsize=(10, 10))\n",
        "theMapAndData.plot(column='Total_ei5', # variable to plot\n",
        "                   cmap='viridis', # set of colors\n",
        "                   categorical=True, # can be interpreted as category\n",
        "                   edgecolor='white', # border color\n",
        "                   linewidth=0., # width of border\n",
        "                   alpha=1, # level of transparency (0 is invisible)\n",
        "                   legend=True, # need a legend?\n",
        "                   # location of legend: 'best', 'upper right', 'upper left', 'lower left',\n",
        "                   # 'lower right', 'right', 'center left', 'center right',\n",
        "                   # 'lower center', 'upper center', 'center'\n",
        "                   legend_kwds={'loc':\"lower left\"},\n",
        "        ax=ax\n",
        "       )\n",
        "\n",
        "ax.set_axis_off()"
      ]
    },
    {
      "cell_type": "code",
      "execution_count": null,
      "metadata": {
        "id": "ba7FY_haTx7Z"
      },
      "outputs": [],
      "source": [
        "# alternatively:\n",
        "\n",
        "import matplotlib.pyplot as plt\n",
        "\n",
        "f, ax = plt.subplots(1, figsize=(10, 10))\n",
        "theMapAndData.plot(column='Total_ei5_cat', # annotated\n",
        "        cmap='viridis',\n",
        "        categorical=True,\n",
        "        edgecolor='white',\n",
        "        linewidth=0.,\n",
        "        alpha=1,\n",
        "        legend=True,\n",
        "        legend_kwds={'loc':3},\n",
        "        ax=ax\n",
        "       )\n",
        "\n",
        "ax.set_axis_off()"
      ]
    },
    {
      "cell_type": "markdown",
      "metadata": {
        "id": "XwtVME1KTx7Z"
      },
      "source": [
        "Once you know the ADCM, you can request the choropleth without creating a variable:"
      ]
    },
    {
      "cell_type": "code",
      "execution_count": null,
      "metadata": {
        "id": "P_CsYwC2Tx7Z"
      },
      "outputs": [],
      "source": [
        "import matplotlib.pyplot as plt\n",
        "\n",
        "f, ax = plt.subplots(1, figsize=(10, 10))\n",
        "theMapAndData.plot(column='Total_mnmx',\n",
        "        cmap='viridis',\n",
        "                   scheme=\"equal_interval\",\n",
        "        edgecolor='white',\n",
        "        linewidth=0.,\n",
        "        alpha=0.75,\n",
        "        legend=True,\n",
        "        legend_kwds={'loc':3},\n",
        "        ax=ax\n",
        "       )\n",
        "\n",
        "ax.set_axis_off()"
      ]
    },
    {
      "cell_type": "code",
      "execution_count": null,
      "metadata": {
        "id": "d85oTqPBTx7Z"
      },
      "outputs": [],
      "source": [
        "import matplotlib.pyplot as plt\n",
        "\n",
        "f, ax = plt.subplots(1, figsize=(10, 10))\n",
        "theMapAndData.plot(column='Total_ei5_cat',\n",
        "        cmap='viridis',\n",
        "        categorical=True,\n",
        "        edgecolor='white',\n",
        "        linewidth=0.,\n",
        "        alpha=0.75,\n",
        "        legend=True,\n",
        "        legend_kwds={'loc':\"lower right\"},\n",
        "        ax=ax\n",
        "       )\n",
        "\n",
        "ax.set_axis_off()"
      ]
    },
    {
      "cell_type": "markdown",
      "metadata": {
        "id": "evWw97I1Tx7a"
      },
      "source": [
        "Let's save our data"
      ]
    },
    {
      "cell_type": "code",
      "execution_count": null,
      "metadata": {
        "id": "c9gFY2Q3Tx7a"
      },
      "outputs": [],
      "source": [
        "theMapAndData.to_file(os.path.join(\"maps\",\"theMapAndData.gpkg\"), layer='fragility', driver=\"GPKG\")"
      ]
    },
    {
      "cell_type": "markdown",
      "metadata": {
        "id": "vyTvkLzLTx7a"
      },
      "source": [
        "<div class=\"alert alert-danger\">\n",
        "  <strong>CHALLENGE 1</strong>\n",
        "    <br> * Create a public repo named \"week2_spatial\" with its README file. (1 point)\n",
        "    <br> * Clone the repo to your computer. (1 point)\n",
        "    <br> * In the local repo in your computer, create a folder named \"data\". (1 point)\n",
        "    <br> * Get Three maps for the same country: the lines can be rivers, highways or similar; the points have to be airports; and the polygons  of the 2rd administrative division ('provinces' in Perú, 'counties' in USA). Download those maps into the \"data\" folder. You can find airports here: https://ourairports.com/data/ (5 points)\n",
        "    <br> * Plot in one map the three layers of maps, including the code. (5 points)\n",
        "    <br> * Publish the three layer map. (3 points)\n",
        "    <br> * Update the README to offer a quick explanation, the data dictionary, and the link to the published map. (2 points)\n",
        "    <br> * Make sure the code is well organized (explanations, comments, no warnings, no python messages). (2 points)\n",
        "    \n",
        "</div>\n"
      ]
    },
    {
      "cell_type": "markdown",
      "metadata": {
        "id": "s9JTr6DYTx7a"
      },
      "source": [
        "<div class=\"alert alert-danger\">\n",
        "  <strong>CHALLENGE 2</strong>\n",
        "    <br> * Create a public repo named week2_spatial with its README file. (1 point)\n",
        "    <br> * Clone the repo to your computer. (1 point)\n",
        "    <br> * In the local repo in your computer, create a folder named \"data\". (1 point)\n",
        "    <br> * Get for the provinces of Peru data for any variable of your concern, the variable has to be measured in several years (you need at least 3 measures if the measures were every 5 or 10 years, or 10 measures if taken yearly). (4 points)\n",
        "    <br> * Merge that data into the map of provinces of Peru. (3 points)\n",
        "    <br> * Plot two maps, one with the provinces that improved, and other with the ones that worsen, include the code. (3 points)\n",
        "    <br> * Publish the two maps. (3 points)\n",
        "    <br> * Update the README to offer a quick explanation, the data dictionary, and the link to the published map. (2 points)\n",
        "    <br> * Make sure the code is well organized (explanations, comments, no warnings, no python messages). (2 points)\n",
        "    \n",
        "</div>\n"
      ]
    }
  ],
  "metadata": {
    "anaconda-cloud": {
      "attach-environment": true,
      "summary": "test"
    },
    "colab": {
      "provenance": []
    },
    "hide_input": false,
    "kernelspec": {
      "display_name": "Python 3 (ipykernel)",
      "language": "python",
      "name": "python3"
    },
    "language_info": {
      "codemirror_mode": {
        "name": "ipython",
        "version": 3
      },
      "file_extension": ".py",
      "mimetype": "text/x-python",
      "name": "python",
      "nbconvert_exporter": "python",
      "pygments_lexer": "ipython3",
      "version": "3.11.9"
    },
    "toc-autonumbering": false
  },
  "nbformat": 4,
  "nbformat_minor": 0
}